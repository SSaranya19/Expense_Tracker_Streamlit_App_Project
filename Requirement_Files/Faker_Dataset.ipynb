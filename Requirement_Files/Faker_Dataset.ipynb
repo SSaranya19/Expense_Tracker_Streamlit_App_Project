{
 "cells": [
  {
   "cell_type": "markdown",
   "id": "d0c6ae38-0209-4314-87f9-59fb2979e8d7",
   "metadata": {},
   "source": [
    "## Using the Faker library to generating a realistic dataset"
   ]
  },
  {
   "cell_type": "code",
   "execution_count": 11,
   "id": "a4232047-7839-40c8-b815-7cf017518403",
   "metadata": {},
   "outputs": [
    {
     "data": {
      "text/html": [
       "<div>\n",
       "<style scoped>\n",
       "    .dataframe tbody tr th:only-of-type {\n",
       "        vertical-align: middle;\n",
       "    }\n",
       "\n",
       "    .dataframe tbody tr th {\n",
       "        vertical-align: top;\n",
       "    }\n",
       "\n",
       "    .dataframe thead th {\n",
       "        text-align: right;\n",
       "    }\n",
       "</style>\n",
       "<table border=\"1\" class=\"dataframe\">\n",
       "  <thead>\n",
       "    <tr style=\"text-align: right;\">\n",
       "      <th></th>\n",
       "      <th>Date</th>\n",
       "      <th>Category</th>\n",
       "      <th>Payment Mode</th>\n",
       "      <th>Description</th>\n",
       "      <th>Amount</th>\n",
       "      <th>Cashback</th>\n",
       "    </tr>\n",
       "  </thead>\n",
       "  <tbody>\n",
       "    <tr>\n",
       "      <th>0</th>\n",
       "      <td>2024-01-01</td>\n",
       "      <td>Transportation</td>\n",
       "      <td>Debit Card</td>\n",
       "      <td>Bought a metro ticket for travel</td>\n",
       "      <td>615.22</td>\n",
       "      <td>0.00</td>\n",
       "    </tr>\n",
       "    <tr>\n",
       "      <th>1</th>\n",
       "      <td>2024-01-01</td>\n",
       "      <td>Transportation</td>\n",
       "      <td>Credit Card</td>\n",
       "      <td>Uber ride to the office</td>\n",
       "      <td>379.94</td>\n",
       "      <td>0.00</td>\n",
       "    </tr>\n",
       "    <tr>\n",
       "      <th>2</th>\n",
       "      <td>2024-01-01</td>\n",
       "      <td>Shopping</td>\n",
       "      <td>Credit Card</td>\n",
       "      <td>Shopping for accessories</td>\n",
       "      <td>749.55</td>\n",
       "      <td>8.92</td>\n",
       "    </tr>\n",
       "    <tr>\n",
       "      <th>3</th>\n",
       "      <td>2024-01-01</td>\n",
       "      <td>Medical Health</td>\n",
       "      <td>Credit Card</td>\n",
       "      <td>Doctor's consultation fee</td>\n",
       "      <td>219.14</td>\n",
       "      <td>0.00</td>\n",
       "    </tr>\n",
       "    <tr>\n",
       "      <th>4</th>\n",
       "      <td>2024-01-01</td>\n",
       "      <td>Investment</td>\n",
       "      <td>Credit Card</td>\n",
       "      <td>Investment in gold</td>\n",
       "      <td>777.19</td>\n",
       "      <td>0.00</td>\n",
       "    </tr>\n",
       "    <tr>\n",
       "      <th>...</th>\n",
       "      <td>...</td>\n",
       "      <td>...</td>\n",
       "      <td>...</td>\n",
       "      <td>...</td>\n",
       "      <td>...</td>\n",
       "      <td>...</td>\n",
       "    </tr>\n",
       "    <tr>\n",
       "      <th>195</th>\n",
       "      <td>2024-01-30</td>\n",
       "      <td>Investment</td>\n",
       "      <td>Credit Card</td>\n",
       "      <td>Bought mutual fund units</td>\n",
       "      <td>608.93</td>\n",
       "      <td>0.00</td>\n",
       "    </tr>\n",
       "    <tr>\n",
       "      <th>196</th>\n",
       "      <td>2024-01-30</td>\n",
       "      <td>Food</td>\n",
       "      <td>Debit Card</td>\n",
       "      <td>Had lunch at hotel</td>\n",
       "      <td>220.23</td>\n",
       "      <td>0.00</td>\n",
       "    </tr>\n",
       "    <tr>\n",
       "      <th>197</th>\n",
       "      <td>2024-01-30</td>\n",
       "      <td>Entertainment</td>\n",
       "      <td>Netbanking</td>\n",
       "      <td>Concert tickets</td>\n",
       "      <td>109.93</td>\n",
       "      <td>0.00</td>\n",
       "    </tr>\n",
       "    <tr>\n",
       "      <th>198</th>\n",
       "      <td>2024-01-30</td>\n",
       "      <td>Groceries</td>\n",
       "      <td>Cash</td>\n",
       "      <td>Purchased daily essentials</td>\n",
       "      <td>222.46</td>\n",
       "      <td>0.00</td>\n",
       "    </tr>\n",
       "    <tr>\n",
       "      <th>199</th>\n",
       "      <td>2024-01-30</td>\n",
       "      <td>Investment</td>\n",
       "      <td>Debit Card</td>\n",
       "      <td>Purchased bonds</td>\n",
       "      <td>287.13</td>\n",
       "      <td>0.00</td>\n",
       "    </tr>\n",
       "  </tbody>\n",
       "</table>\n",
       "<p>200 rows × 6 columns</p>\n",
       "</div>"
      ],
      "text/plain": [
       "           Date        Category Payment Mode  \\\n",
       "0    2024-01-01  Transportation   Debit Card   \n",
       "1    2024-01-01  Transportation  Credit Card   \n",
       "2    2024-01-01        Shopping  Credit Card   \n",
       "3    2024-01-01  Medical Health  Credit Card   \n",
       "4    2024-01-01      Investment  Credit Card   \n",
       "..          ...             ...          ...   \n",
       "195  2024-01-30      Investment  Credit Card   \n",
       "196  2024-01-30            Food   Debit Card   \n",
       "197  2024-01-30   Entertainment   Netbanking   \n",
       "198  2024-01-30       Groceries         Cash   \n",
       "199  2024-01-30      Investment   Debit Card   \n",
       "\n",
       "                          Description  Amount  Cashback  \n",
       "0    Bought a metro ticket for travel  615.22      0.00  \n",
       "1             Uber ride to the office  379.94      0.00  \n",
       "2            Shopping for accessories  749.55      8.92  \n",
       "3           Doctor's consultation fee  219.14      0.00  \n",
       "4                  Investment in gold  777.19      0.00  \n",
       "..                                ...     ...       ...  \n",
       "195          Bought mutual fund units  608.93      0.00  \n",
       "196                Had lunch at hotel  220.23      0.00  \n",
       "197                   Concert tickets  109.93      0.00  \n",
       "198        Purchased daily essentials  222.46      0.00  \n",
       "199                   Purchased bonds  287.13      0.00  \n",
       "\n",
       "[200 rows x 6 columns]"
      ]
     },
     "execution_count": 11,
     "metadata": {},
     "output_type": "execute_result"
    }
   ],
   "source": [
    "import random\n",
    "import pandas as pd\n",
    "from faker import Faker\n",
    "from datetime import date\n",
    "\n",
    "# Initialize Faker\n",
    "fake = Faker()\n",
    "\n",
    "# Define categories, payment modes\n",
    "categories = [\"Groceries\", \"Food\", \"Transportation\", \"Entertainment\", \"Shopping\", \"Medical Health\", \"Investment\"]\n",
    "payment_modes = [\"Cash\", \"UPI\", \"Debit Card\", \"Credit Card\", \"Netbanking\"]\n",
    "\n",
    "# Define category-specific descriptions\n",
    "category_descriptions = {\n",
    "    \"Groceries\": [\"Bought vegetables and fruits\", \"Grocery shopping at the local store\", \"Purchased daily essentials\", \"Bought fresh fruits and snacks\"],\n",
    "    \"Food\": [\"Ordered food from swiggy\", \"Had lunch at hotel\", \"Dinner delivery from zomato\", \"Took out a meal from a restaurant\", \"Had dinner at a restaurant with friends\"],\n",
    "    \"Transportation\": [\"Fuel refilled for the bike\", \"Paid for train ticket\", \"Uber ride to the office\", \"Paid for a cab ride to work\", \"Bought a metro ticket for travel\"],\n",
    "    \"Entertainment\": [\"Movie tickets\", \"Concert tickets\", \"Gaming console purchase\"],\n",
    "    \"Shopping\": [\"Bought clothes\", \"Shopping for accessories\", \"Bought household items\", \"Purchased electronics\", \"Bought a gift for a friend's birthday\"],\n",
    "    \"Medical Health\": [\"Doctor's consultation fee\", \"Bought medication\", \"Medical insurance payment\", \"Health checkup cost\"],\n",
    "    \"Investment\": [\"Invested in stocks\", \"Bought mutual fund units\", \"Investment in gold\", \"Purchased bonds\"]\n",
    "}\n",
    "\n",
    "# Generate random monthly expense data\n",
    "def gen_exp_data(month, year, num_entries=200):\n",
    "    data = []\n",
    "    start_date = date(year, month, 1)\n",
    "    end_date = date(year, month, 31)\n",
    "    for _ in range(num_entries):\n",
    "        category = random.choice(categories)\n",
    "        amount_paid = round(random.uniform(10, 1000), 2)\n",
    "        description = random.choice(category_descriptions.get(category, []))\n",
    "        payment_mode = random.choice(payment_modes)\n",
    "        cashback = 0 if payment_mode in [\"Cash\", \"Netbanking\"] or random.random() > 0.2 else round(random.uniform(0, 10), 2)\n",
    "\n",
    "        record = {\n",
    "            \"Date\": fake.date_between(start_date=start_date, end_date=end_date),\n",
    "            \"Category\": category,\n",
    "            \"Payment Mode\": payment_mode,\n",
    "            \"Description\": description,\n",
    "            \"Amount\": amount_paid,\n",
    "            \"Cashback\": cashback\n",
    "        }\n",
    "        data.append(record)\n",
    "    return pd.DataFrame(data)\n",
    "\n",
    "df = gen_exp_data(month=1, year=2024, num_entries=200)\n",
    "df = df.sort_values(\"Date\").reset_index(drop=True)\n",
    "df"
   ]
  },
  {
   "cell_type": "code",
   "execution_count": 2,
   "id": "c5a6d016-0aed-49ec-9d33-616053b59b85",
   "metadata": {},
   "outputs": [],
   "source": [
    "### Save as CSV"
   ]
  },
  {
   "cell_type": "code",
   "execution_count": 12,
   "id": "569e287e-0119-4dac-b41d-bb88eb82387c",
   "metadata": {},
   "outputs": [],
   "source": [
    "df.to_csv('january_2024_expenses.csv', index=False)"
   ]
  },
  {
   "cell_type": "markdown",
   "id": "fa044bb3-a30d-4f26-9ef6-e893a109ba7d",
   "metadata": {},
   "source": [
    "### Combining all CSV files"
   ]
  },
  {
   "cell_type": "code",
   "execution_count": 15,
   "id": "1221a234-6d14-49f0-ac2c-1e01a7e15d73",
   "metadata": {},
   "outputs": [
    {
     "name": "stdout",
     "output_type": "stream",
     "text": [
      "CSV files concatenated successfully!\n"
     ]
    }
   ],
   "source": [
    "import pandas as pd\n",
    "import os\n",
    "\n",
    "# The directory containing the CSV files\n",
    "directory = r\"CSV_files_path\"\n",
    "\n",
    "# Get a list of all CSV files in the directory\n",
    "csv_files = [file for file in os.listdir(directory) if file.endswith('.csv')]\n",
    "\n",
    "# Combine all CSV files into a single DataFrame\n",
    "combined_df = pd.concat([pd.read_csv(os.path.join(directory, file)) for file in csv_files])\n",
    "\n",
    "# Sort the combined DataFrame and save as csv\n",
    "sorted_df = combined_df.sort_values(by='Date')\n",
    "sorted_df.to_csv(\"Expense_tracker.csv\", index=False)\n",
    "\n",
    "print(\"CSV files concatenated successfully!\")"
   ]
  },
  {
   "cell_type": "markdown",
   "id": "27b6143a-ca86-4866-9fb0-561e95f8bc96",
   "metadata": {},
   "source": [
    "## Connecting Python to MYSQL"
   ]
  },
  {
   "cell_type": "code",
   "execution_count": 2,
   "id": "80cee3ea-1259-40ad-86de-62354924f952",
   "metadata": {},
   "outputs": [
    {
     "name": "stdout",
     "output_type": "stream",
     "text": [
      "<pymysql.connections.Connection object at 0x000002FB24B29BE0>\n"
     ]
    }
   ],
   "source": [
    "import pymysql\n",
    "con= pymysql.connect(\n",
    "    host=\"localhost\",\n",
    "    user=\"root\",\n",
    "    password=\"USER_PASSWORD\",\n",
    "    autocommit=True\n",
    "    )\n",
    "print(con)"
   ]
  },
  {
   "cell_type": "code",
   "execution_count": 9,
   "id": "8678fb23-7f1b-4bc1-9eb9-1aac1cbe4b2d",
   "metadata": {},
   "outputs": [],
   "source": [
    "### Create MYSQL Database"
   ]
  },
  {
   "cell_type": "code",
   "execution_count": 3,
   "id": "94858471-9335-4b39-93f6-f10f3bc85fb4",
   "metadata": {},
   "outputs": [
    {
     "name": "stdout",
     "output_type": "stream",
     "text": [
      "('expense_db',)\n",
      "('information_schema',)\n",
      "('mysql',)\n",
      "('performance_schema',)\n",
      "('sqlpython1',)\n",
      "('sys',)\n"
     ]
    }
   ],
   "source": [
    "mycursor=con.cursor()\n",
    "mycursor.execute(\"CREATE DATABASE EXPENSE_DB\")\n",
    "mycursor.execute(\"SHOW DATABASES\")\n",
    "for x in mycursor:\n",
    "    print(x)"
   ]
  },
  {
   "cell_type": "code",
   "execution_count": 10,
   "id": "d5ac850a-da43-4d60-a629-5c7eab798d3b",
   "metadata": {},
   "outputs": [
    {
     "data": {
      "text/plain": [
       "0"
      ]
     },
     "execution_count": 10,
     "metadata": {},
     "output_type": "execute_result"
    }
   ],
   "source": [
    "mycursor.execute(\"USE EXPENSE_DB\")"
   ]
  },
  {
   "cell_type": "code",
   "execution_count": 10,
   "id": "69ff3f05-ef18-4b58-add3-99514d3b090d",
   "metadata": {},
   "outputs": [],
   "source": [
    "### Create Table"
   ]
  },
  {
   "cell_type": "code",
   "execution_count": 14,
   "id": "ad205003-a4b2-4c07-8235-6a17e033dd89",
   "metadata": {},
   "outputs": [
    {
     "data": {
      "text/plain": [
       "0"
      ]
     },
     "execution_count": 14,
     "metadata": {},
     "output_type": "execute_result"
    }
   ],
   "source": [
    "mycursor.execute(\"CREATE TABLE Expenses (id INT AUTO_INCREMENT PRIMARY KEY, Date DATE, Category VARCHAR(255), Payment_Mode VARCHAR(255), Description TEXT, Amount DECIMAL(10, 2), Cashback DECIMAL(10, 2))\")"
   ]
  },
  {
   "cell_type": "code",
   "execution_count": 11,
   "id": "28db2a45-0fc0-47eb-8864-2be32cb839ec",
   "metadata": {},
   "outputs": [],
   "source": [
    "### Read CSV File"
   ]
  },
  {
   "cell_type": "code",
   "execution_count": 45,
   "id": "c7730b61-821f-4533-8843-8197486c53a6",
   "metadata": {},
   "outputs": [],
   "source": [
    "import pandas as pd\n",
    "df = pd.read_csv('Expense_tracker.csv')"
   ]
  },
  {
   "cell_type": "code",
   "execution_count": 12,
   "id": "725bc251-c3ea-4fa1-b408-f691d73d4cca",
   "metadata": {},
   "outputs": [],
   "source": [
    "### Insert columns and rows"
   ]
  },
  {
   "cell_type": "code",
   "execution_count": 46,
   "id": "54322386-7223-4c32-968e-638142ee5dd0",
   "metadata": {},
   "outputs": [],
   "source": [
    "df['Date'] = pd.to_datetime(df['Date'], format='%m/%d/%Y').dt.strftime('%Y-%m-%d')\n",
    "connection = pymysql.connect(\n",
    "    host=\"localhost\",\n",
    "    user=\"root\",\n",
    "    password=\"USER_PASSWORD\",\n",
    "    database=\"EXPENSE_DB\"\n",
    "    )\n",
    "cursor = connection.cursor()\n",
    "\n",
    "for index, row in df.iterrows():\n",
    "    create_query = \"\"\"\n",
    "    INSERT INTO Expenses (Date, Category, Payment_Mode, Description, Amount, Cashback)\n",
    "    VALUES (%s, %s, %s, %s, %s, %s)\n",
    "    \"\"\"\n",
    "    values = (row['Date'], row['Category'], row['Payment_Mode'], row['Description'], row['Amount'], row['Cashback'])\n",
    "    cursor.execute(create_query, values)\n",
    "    connection.commit()"
   ]
  }
 ],
 "metadata": {
  "kernelspec": {
   "display_name": "Python 3 (ipykernel)",
   "language": "python",
   "name": "python3"
  },
  "language_info": {
   "codemirror_mode": {
    "name": "ipython",
    "version": 3
   },
   "file_extension": ".py",
   "mimetype": "text/x-python",
   "name": "python",
   "nbconvert_exporter": "python",
   "pygments_lexer": "ipython3",
   "version": "3.13.1"
  }
 },
 "nbformat": 4,
 "nbformat_minor": 5
}
